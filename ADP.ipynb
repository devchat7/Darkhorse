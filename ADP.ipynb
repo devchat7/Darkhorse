{
 "cells": [
  {
   "cell_type": "code",
   "execution_count": 1,
   "metadata": {},
   "outputs": [],
   "source": [
    "import pandas as pd\n",
    "import numpy as np"
   ]
  },
  {
   "cell_type": "code",
   "execution_count": 2,
   "metadata": {},
   "outputs": [
    {
     "name": "stdout",
     "output_type": "stream",
     "text": [
      "             Player Name  FantasyPros Rank\n",
      "0    Christian McCaffrey                 1\n",
      "1            CeeDee Lamb                 2\n",
      "2            Tyreek Hill                 3\n",
      "3          Ja'Marr Chase                 4\n",
      "4       Justin Jefferson                 5\n",
      "..                   ...               ...\n",
      "404      Aaron Shampklin               405\n",
      "405       Frank Gore Jr.               406\n",
      "406        Antoine Green               407\n",
      "407       Deneric Prince               408\n",
      "408      Jerick McKinnon               409\n",
      "\n",
      "[409 rows x 2 columns]\n"
     ]
    }
   ],
   "source": [
    "import pandas as pd\n",
    "import requests\n",
    "from bs4 import BeautifulSoup\n",
    "\n",
    "# URL of the webpage\n",
    "url = 'https://www.fantasypros.com/nfl/adp/ppr-overall.php'\n",
    "\n",
    "# Fetch the HTML content from the URL\n",
    "response = requests.get(url)\n",
    "if response.status_code == 200:\n",
    "    html_content = response.text\n",
    "\n",
    "    # Create a BeautifulSoup object\n",
    "    soup = BeautifulSoup(html_content, 'html.parser')\n",
    "\n",
    "    # Find all player names\n",
    "    player_names = [a.text.strip() for a in soup.find_all('a', attrs={'class': 'player-name'})]\n",
    "\n",
    "    # Create a DataFrame from the player names\n",
    "    FantasyPros = pd.DataFrame(player_names, columns=['Player Name'])\n",
    "\n",
    "    # Add a column for the order, starting at 1\n",
    "    FantasyPros['FantasyPros Rank'] = range(1, len(FantasyPros) + 1)\n",
    "\n",
    "    # Print the DataFrame\n",
    "    print(FantasyPros)\n",
    "else:\n",
    "    print(f\"Failed to retrieve the webpage. Status code: {response.status_code}\")\n"
   ]
  },
  {
   "cell_type": "code",
   "execution_count": 3,
   "metadata": {},
   "outputs": [
    {
     "name": "stdout",
     "output_type": "stream",
     "text": [
      "               Player Name  ESPN Rank\n",
      "0      Christian McCaffrey        1.0\n",
      "1              CeeDee Lamb        2.0\n",
      "2              Tyreek Hill        3.0\n",
      "3            Ja'Marr Chase        4.0\n",
      "4              Breece Hall        5.0\n",
      "..                     ...        ...\n",
      "473          Kyle Juszczyk      246.0\n",
      "313  Donovan Peoples-Jones      247.0\n",
      "223          D.J. Chark Jr      248.0\n",
      "345   Tampa Bay Buccaneers      249.0\n",
      "368         Denver Broncos      250.0\n",
      "\n",
      "[250 rows x 2 columns]\n"
     ]
    }
   ],
   "source": [
    "import requests\n",
    "from bs4 import BeautifulSoup\n",
    "import pandas as pd\n",
    "\n",
    "# URL of the webpage\n",
    "url = 'https://www.footballguys.com/adp'\n",
    "\n",
    "# Fetch the HTML content from the URL\n",
    "response = requests.get(url)\n",
    "if response.status_code == 200:\n",
    "    html_content = response.text\n",
    "\n",
    "    # Create a BeautifulSoup object\n",
    "    soup = BeautifulSoup(html_content, 'html.parser')\n",
    "\n",
    "    # List to hold player names and their ESPN values\n",
    "    player_data = []\n",
    "    rows = soup.find_all('tr')\n",
    "\n",
    "    for row in rows:\n",
    "        # Extract the player name\n",
    "        name_td = row.find('td', class_='name sticky-col text-start')\n",
    "        if name_td:\n",
    "            name_a = name_td.find('a')\n",
    "            if name_a:\n",
    "                player_name = name_a.get_text().strip()\n",
    "                # Extract the 9th <td> element (index 8) for ESPN value\n",
    "                tds = row.find_all('td')\n",
    "                if len(tds) >= 9:\n",
    "                    espn_value = tds[8].get_text().strip()\n",
    "                    # Append the player name and ESPN value as a tuple to the list\n",
    "                    player_data.append((player_name, espn_value))\n",
    "\n",
    "    # Create a DataFrame from the list\n",
    "    ESPN = pd.DataFrame(player_data, columns=['Player Name', 'ESPN Rank'])\n",
    "\n",
    "    # Convert ESPN Rank to numeric for proper sorting, handling non-numeric cases\n",
    "    ESPN['ESPN Rank'] = pd.to_numeric(ESPN['ESPN Rank'], errors='coerce')\n",
    "    ESPN = ESPN.dropna().sort_values('ESPN Rank')  # Drop rows where conversion failed and sort\n",
    "\n",
    "    # Print the DataFrame\n",
    "    print(ESPN)\n",
    "else:\n",
    "    print(f\"Failed to retrieve the webpage. Status code: {response.status_code}\")\n"
   ]
  },
  {
   "cell_type": "code",
   "execution_count": 4,
   "metadata": {},
   "outputs": [
    {
     "name": "stdout",
     "output_type": "stream",
     "text": [
      "                 Player Name  Underdog Rank\n",
      "0        Christian McCaffrey            1.0\n",
      "1                CeeDee Lamb            2.0\n",
      "2                Tyreek Hill            3.0\n",
      "3              Ja'Marr Chase            4.0\n",
      "5           Justin Jefferson            5.0\n",
      "..                       ...            ...\n",
      "478  Marcus Rosemy-Jacksaint          346.0\n",
      "477               Tip Reiman          347.0\n",
      "472           Dillon Johnson          348.0\n",
      "476            Foster Moreau          349.0\n",
      "480           Isaiah Spiller          350.0\n",
      "\n",
      "[350 rows x 2 columns]\n"
     ]
    }
   ],
   "source": [
    "import requests\n",
    "from bs4 import BeautifulSoup\n",
    "import pandas as pd\n",
    "\n",
    "# URL of the webpage\n",
    "url = 'https://www.footballguys.com/adp'\n",
    "\n",
    "# Fetch the HTML content from the URL\n",
    "response = requests.get(url)\n",
    "if response.status_code == 200:\n",
    "    html_content = response.text\n",
    "\n",
    "    # Create a BeautifulSoup object\n",
    "    soup = BeautifulSoup(html_content, 'html.parser')\n",
    "\n",
    "    # List to hold player names and their Underdog PPR values\n",
    "    player_data = []\n",
    "    rows = soup.find_all('tr')\n",
    "\n",
    "    for row in rows:\n",
    "        # Extract the player name\n",
    "        name_td = row.find('td', class_='name sticky-col text-start')\n",
    "        if name_td:\n",
    "            name_a = name_td.find('a')\n",
    "            if name_a:\n",
    "                player_name = name_a.get_text().strip()\n",
    "                # Extract the Underdog value; it's typically another <td> element, adjust the index as needed\n",
    "                tds = row.find_all('td')\n",
    "                if len(tds) > 14:  # Ensure there are enough <td> elements\n",
    "                    underdog_value = tds[14].get_text().strip()  # Change to the correct index for Underdog\n",
    "                    player_data.append((player_name, underdog_value))\n",
    "\n",
    "    # Create a DataFrame from the list\n",
    "    Underdog = pd.DataFrame(player_data, columns=['Player Name', 'Underdog Rank'])\n",
    "\n",
    "    # Convert 'Underdog Rank' to numeric for sorting, coerce errors to NaN\n",
    "    Underdog['Underdog Rank'] = pd.to_numeric(Underdog['Underdog Rank'], errors='coerce')\n",
    "    Underdog = Underdog.dropna().sort_values('Underdog Rank')  # Drop NaNs and sort by Underdog Rank\n",
    "\n",
    "    # Print the DataFrame\n",
    "    print(Underdog)\n",
    "else:\n",
    "    print(f\"Failed to retrieve the webpage. Status code: {response.status_code}\")\n"
   ]
  },
  {
   "cell_type": "code",
   "execution_count": 5,
   "metadata": {},
   "outputs": [
    {
     "name": "stdout",
     "output_type": "stream",
     "text": [
      "               Player Name  ESPN Rank FantasyPros Rank Underdog Rank\n",
      "0      Christian McCaffrey        1.0              1.0           1.0\n",
      "1              CeeDee Lamb        2.0              2.0           2.0\n",
      "2              Tyreek Hill        3.0              3.0           3.0\n",
      "3            Ja'Marr Chase        4.0              4.0           4.0\n",
      "4              Breece Hall        5.0              8.0           8.0\n",
      "..                     ...        ...              ...           ...\n",
      "245          Kyle Juszczyk      246.0                -             -\n",
      "246  Donovan Peoples-Jones      247.0            283.0         279.0\n",
      "247          D.J. Chark Jr      248.0                -         212.0\n",
      "248   Tampa Bay Buccaneers      249.0                -             -\n",
      "249         Denver Broncos      250.0                -             -\n",
      "\n",
      "[250 rows x 4 columns]\n"
     ]
    }
   ],
   "source": [
    "import pandas as pd\n",
    "\n",
    "# Sample data setup (replace with your actual DataFrame fetching code)\n",
    "# dESPN = pd.DataFrame({'Player Name': ['Player A', 'Player B'], 'ESPN Rank': [1, 2]})\n",
    "# df_fantasypros = pd.DataFrame({'Player Name': ['Player A', 'Player B'], 'FantasyPros Rank': [2, 1]})\n",
    "# df_underdog = pd.DataFrame({'Player Name': ['Player A', 'Player B'], 'Underdog Rank': [1, 2]})\n",
    "\n",
    "# Merge ESPN with FantasyPros on 'Player Name'\n",
    "df_merged = pd.merge(ESPN, FantasyPros, on='Player Name', how='left')\n",
    "\n",
    "# Merge the result with Underdog rankings on 'Player Name'\n",
    "df_merged = pd.merge(df_merged, Underdog, on='Player Name', how='left')\n",
    "\n",
    "df_merged.fillna('-', inplace=True)\n",
    "\n",
    "# Check the resulting DataFrame\n",
    "print(df_merged)\n"
   ]
  },
  {
   "cell_type": "code",
   "execution_count": 6,
   "metadata": {},
   "outputs": [
    {
     "name": "stdout",
     "output_type": "stream",
     "text": [
      "Found 0 tr elements with a 'data-key' attribute\n",
      "\n",
      "Extracted Player Data:\n"
     ]
    }
   ],
   "source": [
    "import requests\n",
    "from bs4 import BeautifulSoup\n",
    "\n",
    "# URL of the webpage\n",
    "url = 'https://www.draftsharks.com/adp/half-ppr/yahoo/12'\n",
    "\n",
    "# Fetch the HTML content from the URL\n",
    "response = requests.get(url)\n",
    "if response.status_code == 200:\n",
    "    html_content = response.text\n",
    "\n",
    "    # Create a BeautifulSoup object\n",
    "    soup = BeautifulSoup(html_content, 'html.parser')\n",
    "\n",
    "    # List to hold player names and data keys\n",
    "    player_data = []\n",
    "\n",
    "    # Find all tr elements with a 'data-key' attribute\n",
    "    tr_elements = soup.find_all('tr', attrs={'data-key': True})\n",
    "\n",
    "    print(f\"Found {len(tr_elements)} tr elements with a 'data-key' attribute\")\n",
    "\n",
    "    for tr in tr_elements:\n",
    "        # Navigate to the 'greaseBallCenter gb_skip' div to get the player name\n",
    "        name_div = tr.select_one('.greaseBallCenter.gb_skip')\n",
    "        if name_div:\n",
    "            player_name = name_div.get_text().strip()\n",
    "            data_key = tr['data-key']\n",
    "            player_data.append((data_key, player_name))\n",
    "        else:\n",
    "            print(f\"No player name found in tr element with data-key: {tr['data-key']}\")\n",
    "\n",
    "    # Print the player names and their data keys in order\n",
    "    print(\"\\nExtracted Player Data:\")\n",
    "    for data_key, player_name in player_data:\n",
    "        print(f\"data-key: {data_key}, Player: {player_name}\")\n",
    "else:\n",
    "    print(f\"Failed to retrieve the webpage. Status code: {response.status_code}\")\n"
   ]
  }
 ],
 "metadata": {
  "kernelspec": {
   "display_name": "Python 3",
   "language": "python",
   "name": "python3"
  },
  "language_info": {
   "codemirror_mode": {
    "name": "ipython",
    "version": 3
   },
   "file_extension": ".py",
   "mimetype": "text/x-python",
   "name": "python",
   "nbconvert_exporter": "python",
   "pygments_lexer": "ipython3",
   "version": "3.10.9"
  }
 },
 "nbformat": 4,
 "nbformat_minor": 2
}
